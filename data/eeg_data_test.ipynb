{
 "cells": [
  {
   "cell_type": "markdown",
   "metadata": {},
   "source": [
    "# EEG data test"
   ]
  },
  {
   "cell_type": "code",
   "execution_count": 55,
   "metadata": {},
   "outputs": [
    {
     "name": "stdout",
     "output_type": "stream",
     "text": [
      "data keys: \n",
      " ['#refs#', 'LE', 'LEmaxMI', 'RE', 'REmaxMI', 'chanlocs', 'eyebubs', 'fbubs', 'feeg', 'fresp', 'frt', 'nbubs', 'neeg', 'nresp', 'nrt']\n",
      "\n",
      "metadata keys: \n",
      " ['#refs#', 'Ns', 'l_eye_mask', 'r_eye_mask', 'subjects', 'time']\n"
     ]
    }
   ],
   "source": [
    "import h5py\n",
    "import numpy as np\n",
    "\n",
    "path = '/mnt/FIT_project/EEGdata/'\n",
    "\n",
    "filename = 'data_s3.mat'\n",
    "\n",
    "data = h5py.File(path+filename, 'r')\n",
    "print('data keys: \\n', list(data.keys()))\n",
    "\n",
    "metadata = h5py.File(path+'metadata.mat', 'r')\n",
    "print('\\nmetadata keys: \\n', list(metadata.keys()))"
   ]
  },
  {
   "cell_type": "code",
   "execution_count": null,
   "metadata": {},
   "outputs": [],
   "source": [
    "def file_loader(dataset):\n",
    "    \n",
    "    LEmaxMI = np.array(data['LEmaxMI'])\n",
    "    REmaxMI = np.array(data['REmaxMI'])\n",
    "    eyebubs = np.array(data['eyebubs'])\n",
    "    feeg = np.array(data['feeg'])\n",
    "\n",
    "    return data"
   ]
  },
  {
   "cell_type": "code",
   "execution_count": 62,
   "metadata": {},
   "outputs": [],
   "source": [
    "# time\n",
    "time = np.array(metadata['time'])\n",
    "\n",
    "# number of subjects\n",
    "N = np.array(metadata['Ns'])"
   ]
  },
  {
   "cell_type": "code",
   "execution_count": null,
   "metadata": {},
   "outputs": [],
   "source": [
    "# saving data into numpy arrays\n",
    "\n",
    "LE = np.array(data['LE'])\n",
    "LEmaxMI = np.array(data['LEmaxMI'])\n",
    "RE = np.array(data['RE'])\n",
    "REmaxMI = np.array(data['REmaxMI'])\n",
    "chanlocs = np.array(data['chanlocs'])\n",
    "\n",
    "# eye visibility\n",
    "eyebubs = np.array(data['eyebubs'])\n",
    "\n",
    "fbubs = np.array(data['fbubs'])\n",
    "feeg = np.array(data['feeg'])\n",
    "fresp = np.array(data['fresp'])\n",
    "frt = np.array(data['frt'])\n",
    "\n",
    "nbubs = np.array(data['nbubs'])\n",
    "neeg = np.array(data['neeg'])\n",
    "nresp = np.array(data['nresp'])\n",
    "nrt = np.array(data['nrt'])"
   ]
  },
  {
   "cell_type": "code",
   "execution_count": 45,
   "metadata": {},
   "outputs": [
    {
     "data": {
      "text/plain": [
       "(134, 192, 1100)"
      ]
     },
     "execution_count": 45,
     "metadata": {},
     "output_type": "execute_result"
    }
   ],
   "source": [
    "np.array(data['fbubs']).shape"
   ]
  },
  {
   "cell_type": "code",
   "execution_count": 34,
   "metadata": {},
   "outputs": [
    {
     "data": {
      "text/plain": [
       "(118, 651, 1100)"
      ]
     },
     "execution_count": 34,
     "metadata": {},
     "output_type": "execute_result"
    }
   ],
   "source": [
    "np.array(data['feeg']).shape"
   ]
  },
  {
   "cell_type": "code",
   "execution_count": 35,
   "metadata": {},
   "outputs": [
    {
     "data": {
      "text/plain": [
       "(118, 651, 1098)"
      ]
     },
     "execution_count": 35,
     "metadata": {},
     "output_type": "execute_result"
    }
   ],
   "source": [
    "np.array(data['neeg']).shape"
   ]
  },
  {
   "cell_type": "code",
   "execution_count": null,
   "metadata": {},
   "outputs": [],
   "source": [
    "data.close()"
   ]
  }
 ],
 "metadata": {
  "kernelspec": {
   "display_name": "base",
   "language": "python",
   "name": "python3"
  },
  "language_info": {
   "codemirror_mode": {
    "name": "ipython",
    "version": 3
   },
   "file_extension": ".py",
   "mimetype": "text/x-python",
   "name": "python",
   "nbconvert_exporter": "python",
   "pygments_lexer": "ipython3",
   "version": "3.11.7"
  }
 },
 "nbformat": 4,
 "nbformat_minor": 2
}
